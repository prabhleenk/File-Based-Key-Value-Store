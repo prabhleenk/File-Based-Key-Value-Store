{
 "cells": [
  {
   "cell_type": "code",
   "execution_count": 1,
   "metadata": {},
   "outputs": [
    {
     "name": "stdout",
     "output_type": "stream",
     "text": [
      "error: this key already exists\n",
      "key is successfully deleted\n"
     ]
    }
   ],
   "source": [
    "import threading \n",
    "from threading import*\n",
    "import time\n",
    "#dictionary 'd'\n",
    "d={} \n",
    "\n",
    "#Create operation\n",
    "def create(key,value,timeout_value=0): \n",
    "    if key in d:\n",
    "        print(\"error: this key already exists\") #if key is generated already\n",
    "    else:\n",
    "        if(key.isalpha()):\n",
    "            if len(d)<(1024*1020*1024) and value<=(16*1024*1024): # file size never exceeds 1GB and The value is always a JSON object - capped at 16KB.\n",
    "                if timeout_value==0:\n",
    "                    l=[value,timeout_value]\n",
    "                else:\n",
    "                    l=[value,time.time()+timeout_value]\n",
    "                if len(key)<=32: #key capped at 32 chars\n",
    "                    d[key]=l\n",
    "            else:\n",
    "                print(\"error: Memory limit exceeded!! \")#print if memory limit exceed\n",
    "        else:\n",
    "            print(\"error: Invalind key_name!! key_name must contain only alphabets and no special characters or numbers\")#print if the key_name is not string\n",
    "\n",
    "#Read operation\n",
    "def read(key):\n",
    "    if key not in d:\n",
    "        print(\"error: given key does not exist in database. Please enter a valid key\") #print if key is not created\n",
    "    else:\n",
    "        b=d[key]\n",
    "        if b[1]!=0:\n",
    "            if time.time()<b[1]: #Comparing the present time with expiry time\n",
    "                string=str(key)+\":\"+str(b[0]) #To return \"key_name:value\"  in the format of Json Object\n",
    "                return string\n",
    "            else:\n",
    "                print(\"error: time-to-live of\",key,\"has expired\") #if time is expired\n",
    "        else:\n",
    "            string=str(key)+\":\"+str(b[0])\n",
    "            return string\n",
    "\n",
    "#Delete operation\n",
    "def delete(key):\n",
    "    if key not in d:\n",
    "        print(\"error: given key does not exist in database. Please enter a valid key\") #print if key is not created\n",
    "    else:\n",
    "        b=d[key]\n",
    "        if b[1]!=0:\n",
    "            if time.time()<b[1]: #comparing the current time with expiry time\n",
    "                del d[key]\n",
    "                print(\"key is successfully deleted\")# key is deleted\n",
    "            else:\n",
    "                print(\"error: time-to-live of\",key,\"has expired\") #if time is expired\n",
    "        else:\n",
    "            del d[key]\n",
    "            print(\"key is successfully deleted\")# key is deleted \n",
    "\n",
    "create(\"Geeks\",10)\n",
    "#Creates a key with key_name,value\n",
    "\n",
    "create(\"For\",20,3600) \n",
    "#Creates a key with key_name,value and with time-to-live property in number of seconds\n",
    "\n",
    "read(\"Geeks\")\n",
    "#Returns the value of the key in Json object format\n",
    "\n",
    "read(\"For\")\n",
    "#Returns the value of the respective key in Json object format if the time-to-live is not expired else it returns an ERROR\n",
    "\n",
    "create(\"Geeks\",30)\n",
    "#Returns an ERROR since the key_name already exists in the database\n",
    "#To overcome this error \n",
    "     \n",
    "delete(\"Geeks\")\n",
    "#Deletes the respective key and its value\n"
   ]
  },
  {
   "cell_type": "code",
   "execution_count": null,
   "metadata": {},
   "outputs": [],
   "source": []
  }
 ],
 "metadata": {
  "kernelspec": {
   "display_name": "Python 3",
   "language": "python",
   "name": "python3"
  },
  "language_info": {
   "codemirror_mode": {
    "name": "ipython",
    "version": 3
   },
   "file_extension": ".py",
   "mimetype": "text/x-python",
   "name": "python",
   "nbconvert_exporter": "python",
   "pygments_lexer": "ipython3",
   "version": "3.6.4"
  }
 },
 "nbformat": 4,
 "nbformat_minor": 2
}
